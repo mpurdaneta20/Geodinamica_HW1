{
 "metadata": {
  "name": ""
 },
 "nbformat": 3,
 "nbformat_minor": 0,
 "worksheets": [
  {
   "cells": [
    {
     "cell_type": "heading",
     "level": 1,
     "metadata": {},
     "source": [
      "Tarea 1 - Geodinamica - \n",
      "27/08/2015"
     ]
    },
    {
     "cell_type": "heading",
     "level": 2,
     "metadata": {},
     "source": [
      "Maria Paz Urdaneta U.\n",
      "201225537"
     ]
    },
    {
     "cell_type": "code",
     "collapsed": false,
     "input": [
      "%pylab inline"
     ],
     "language": "python",
     "metadata": {},
     "outputs": [
      {
       "output_type": "stream",
       "stream": "stdout",
       "text": [
        "Populating the interactive namespace from numpy and matplotlib\n"
       ]
      }
     ],
     "prompt_number": 4
    },
    {
     "cell_type": "code",
     "collapsed": false,
     "input": [
      "import math"
     ],
     "language": "python",
     "metadata": {},
     "outputs": [],
     "prompt_number": 5
    },
    {
     "cell_type": "heading",
     "level": 4,
     "metadata": {},
     "source": [
      "Punto 2A"
     ]
    },
    {
     "cell_type": "code",
     "collapsed": false,
     "input": [
      "#Punto 2A\n",
      "#Datos originales en grados (Mauna Loa (hs) y Euler point (p))\n",
      "hsWpa=9.67*10**-7\n",
      "lambdahs=19\n",
      "phihs=-156\n",
      "lambdap=-61.7\n",
      "phip=97.2"
     ],
     "language": "python",
     "metadata": {},
     "outputs": [],
     "prompt_number": 34
    },
    {
     "cell_type": "code",
     "collapsed": false,
     "input": [
      "#Datos originales en radianes\n",
      "vel=math.radians(hsWpa)\n",
      "lambdahsr=math.radians(lambdahs)\n",
      "phihsr=math.radians(phihs)\n",
      "lambdapr=math.radians(lambdap)\n",
      "phipr=math.radians(phip)"
     ],
     "language": "python",
     "metadata": {},
     "outputs": [],
     "prompt_number": 35
    },
    {
     "cell_type": "code",
     "collapsed": false,
     "input": [
      "sin_lhs=sin(lambdahsr)\n",
      "sin_lp=sin(lambdapr)\n",
      "cos_lhs=cos(lambdahsr)\n",
      "cos_lp=cos(lambdapr)\n",
      "delta_phi=phipr-phihsr\n",
      "cos_delt=cos(delta_phi)\n",
      "sin_delt=sin(delta_phi)\n",
      "d=(sin_lhs*sin_lp)+(cos_lhs*cos_lp*cos_delt)\n",
      "a=math.acos(d)\n",
      "a_degree=math.degrees(a)\n",
      "print a_degree"
     ],
     "language": "python",
     "metadata": {},
     "outputs": [
      {
       "output_type": "stream",
       "stream": "stdout",
       "text": [
        "114.595951912\n"
       ]
      }
     ],
     "prompt_number": 36
    },
    {
     "cell_type": "code",
     "collapsed": false,
     "input": [
      "c=(cos_lp*sin_delt)/sin(a)\n",
      "C=math.asin(c)\n",
      "C_degree=math.degrees(C)\n",
      "C_degree_abs=abs(C_degree)\n",
      "print C_degree\n",
      "print C_degree_abs"
     ],
     "language": "python",
     "metadata": {},
     "outputs": [
      {
       "output_type": "stream",
       "stream": "stdout",
       "text": [
        "-29.9433442465\n",
        "29.9433442465\n"
       ]
      }
     ],
     "prompt_number": 39
    },
    {
     "cell_type": "code",
     "collapsed": false,
     "input": [
      "radio_t=6371*10**5\n",
      "print \"El radio de la tierra es,\",radio_t, \"cm.\""
     ],
     "language": "python",
     "metadata": {},
     "outputs": [
      {
       "output_type": "stream",
       "stream": "stdout",
       "text": [
        "El radio de la tierra es, 637100000 cm.\n"
       ]
      }
     ],
     "prompt_number": 13
    },
    {
     "cell_type": "code",
     "collapsed": false,
     "input": [
      "#Velocidad del HS\n",
      "v=vel*radio_t*sin(a)\n",
      "print \"La velocidad del Volcan Mauna Loa es de ,\",v,\"cm/yr.\""
     ],
     "language": "python",
     "metadata": {},
     "outputs": [
      {
       "output_type": "stream",
       "stream": "stdout",
       "text": [
        "La velocidad del Volcan Mauna Loa es de , 9.77692240642 cm/yr.\n"
       ]
      }
     ],
     "prompt_number": 16
    },
    {
     "cell_type": "code",
     "collapsed": false,
     "input": [
      "#Azimuth de la velocidad\n",
      "beta=90+C_degree_abs\n",
      "\n",
      "n=beta+180\n",
      "\n",
      "print \"El azimuth (direccion de la velocidad) de la velocida es de \",n,\"grados.\""
     ],
     "language": "python",
     "metadata": {},
     "outputs": [
      {
       "output_type": "stream",
       "stream": "stdout",
       "text": [
        "El azimuth (direccion de la velocidad) de la velocida es de  299.943344247 grados.\n"
       ]
      }
     ],
     "prompt_number": 14
    },
    {
     "cell_type": "code",
     "collapsed": false,
     "input": [
      "#Distancia (100km) en cm\n",
      "distancia1=100*10**5"
     ],
     "language": "python",
     "metadata": {},
     "outputs": [],
     "prompt_number": 19
    },
    {
     "cell_type": "code",
     "collapsed": false,
     "input": [
      "#Tiempo que demora moverse 100km el Mauna Loa\n",
      "t1=distancia1/v\n",
      "print \"El tiempo en el cual se extinguira el Mauna Loa, dado que se movio 100km es de\",t1,\"a\u00f1os.\""
     ],
     "language": "python",
     "metadata": {},
     "outputs": [
      {
       "output_type": "stream",
       "stream": "stdout",
       "text": [
        "El tiempo en el cual se extinguira el Mauna Loa, dado que se movio 100km es de 1022816.74992 a\u00f1os.\n"
       ]
      }
     ],
     "prompt_number": 20
    },
    {
     "cell_type": "heading",
     "level": 4,
     "metadata": {},
     "source": [
      "Punto 2B"
     ]
    },
    {
     "cell_type": "code",
     "collapsed": false,
     "input": [
      "#Punto 2B\n",
      "#Datos originales en grados (Punto en el borde de placas (bp) y Euler point (ep - Eurasia Pacifico))\n",
      "eaWpa=7.8*10**-7\n",
      "lambdabp=53\n",
      "phibp=162\n",
      "lambdaep=48.7\n",
      "phiep=78.2"
     ],
     "language": "python",
     "metadata": {},
     "outputs": [],
     "prompt_number": 26
    },
    {
     "cell_type": "code",
     "collapsed": false,
     "input": [
      "#Datos originales en radianes\n",
      "vel_2=math.radians(eaWpa)\n",
      "lambdabpr=math.radians(lambdabp)\n",
      "phibpr=math.radians(phibp)\n",
      "lambdaepr=math.radians(lambdaep)\n",
      "phiepr=math.radians(phiep)"
     ],
     "language": "python",
     "metadata": {},
     "outputs": [],
     "prompt_number": 27
    },
    {
     "cell_type": "code",
     "collapsed": false,
     "input": [
      "sin_lbp=sin(lambdabpr)\n",
      "sin_lep=sin(lambdaepr)\n",
      "cos_lbp=cos(lambdabpr)\n",
      "cos_lep=cos(lambdaepr)\n",
      "delta_phi=phiepr-phibpr\n",
      "cos_delt=cos(delta_phi)\n",
      "sin_delt=sin(delta_phi)\n",
      "d=(sin_lbp*sin_lep)+(cos_lbp*cos_lep*cos_delt)\n",
      "a_2=math.acos(d)\n",
      "a_2_degree=math.degrees(a_2)\n",
      "print a_2_degree"
     ],
     "language": "python",
     "metadata": {},
     "outputs": [
      {
       "output_type": "stream",
       "stream": "stdout",
       "text": [
        "49.992831926\n"
       ]
      }
     ],
     "prompt_number": 28
    },
    {
     "cell_type": "code",
     "collapsed": false,
     "input": [
      "c_2=(cos_lep*sin_delt)/sin(a_2)\n",
      "C_2=math.asin(c_2)\n",
      "C_2_degree=math.degrees(C_2)\n",
      "C_2_degree_abs=abs(C_2_degree)\n",
      "print C_2_degree\n",
      "print C_2_degree_abs"
     ],
     "language": "python",
     "metadata": {},
     "outputs": [
      {
       "output_type": "stream",
       "stream": "stdout",
       "text": [
        "-58.9393421867\n",
        "58.9393421867\n"
       ]
      }
     ],
     "prompt_number": 29
    },
    {
     "cell_type": "code",
     "collapsed": false,
     "input": [
      "#Velocidad del HS\n",
      "v_2=vel_2*radio_t*sin(a_2)\n",
      "print \"La velocidad del cualquier punto en el pacifico es de ,\",v_2,\"cm/yr.\""
     ],
     "language": "python",
     "metadata": {},
     "outputs": [
      {
       "output_type": "stream",
       "stream": "stdout",
       "text": [
        "La velocidad del cualquier punto en el pacifico es de , 6.64336241719 cm/yr.\n"
       ]
      }
     ],
     "prompt_number": 34
    },
    {
     "cell_type": "code",
     "collapsed": false,
     "input": [
      "#Azimuth de la velocidad\n",
      "beta_2=90+C_2_degree_abs\n",
      "\n",
      "n_2=beta_2+180\n",
      "\n",
      "print \"El azimuth (direccion de la velocidad) de la velocida es de \",n_2,\"grados.\""
     ],
     "language": "python",
     "metadata": {},
     "outputs": [
      {
       "output_type": "stream",
       "stream": "stdout",
       "text": [
        "El azimuth (direccion de la velocidad) de la velocida es de  328.939342187 grados.\n"
       ]
      }
     ],
     "prompt_number": 31
    },
    {
     "cell_type": "code",
     "collapsed": false,
     "input": [
      "#Distancia al punto de masa mas cercano con un angulo de 298.4 \n",
      "distancia2_primerasecuenciahawaii=689*10**5\n",
      "distancia2_primerasecuenciaemperador=3050*10**5"
     ],
     "language": "python",
     "metadata": {},
     "outputs": [],
     "prompt_number": 32
    },
    {
     "cell_type": "code",
     "collapsed": false,
     "input": [
      "#Tiempo que tardaria en chocarse Hawaii con Japon\n",
      "t2_hawaii=distancia2_primerasecuenciahawaii/v_2\n",
      "print \"El tiempo en el cual se chocara la primera de las islas oceanicas de Hawaii con una masa de tierra (distancia de 686 km) es de\",t2_hawaii,\"a\u00f1os.\"\n",
      "t2_emperador=distancia2_primerasecuenciaemperador/v_2\n",
      "print \"El tiempo en el cual se chocara la primera de las islas oceanicas del emperador con una masa de tierra (distancia de 3050 km) es de\",t2_emperador,\"a\u00f1os.\""
     ],
     "language": "python",
     "metadata": {},
     "outputs": [
      {
       "output_type": "stream",
       "stream": "stdout",
       "text": [
        "El tiempo en el cual se chocara la primera de las islas oceanicas de Hawaii con una masa de tierra (distancia de 686 km) es de 10371254.1441 a\u00f1os.\n",
        "El tiempo en el cual se chocara la primera de las islas oceanicas del emperador con una masa de tierra (distancia de 3050 km) es de 45910486.4144 a\u00f1os.\n"
       ]
      }
     ],
     "prompt_number": 33
    },
    {
     "cell_type": "heading",
     "level": 4,
     "metadata": {},
     "source": [
      "Punto 3"
     ]
    },
    {
     "cell_type": "code",
     "collapsed": false,
     "input": [
      "import numpy as np"
     ],
     "language": "python",
     "metadata": {},
     "outputs": [],
     "prompt_number": 68
    },
    {
     "cell_type": "code",
     "collapsed": false,
     "input": [
      "#Punto 3\n",
      "#Datos originales en grados\n",
      "iWea=5.3*10**-7\n",
      "\n",
      "lambdax1=29.56\n",
      "phix1=79.14\n",
      "\n",
      "lambdax2=27.86\n",
      "phix2=83.26\n",
      "\n",
      "lambdax3=26.88\n",
      "phix3=87.48\n",
      "\n",
      "lambdax4=28.83\n",
      "phix4=80.96\n",
      "\n",
      "lambdax5=27.48\n",
      "phix5=85.66\n",
      "\n",
      "lambdaie=24.4\n",
      "phiie=17.7"
     ],
     "language": "python",
     "metadata": {},
     "outputs": [],
     "prompt_number": 88
    },
    {
     "cell_type": "code",
     "collapsed": false,
     "input": [
      "#Datos originales en radianes\n",
      "def pasar_a_rad(lambdax,phix,lambdapolo,phipolo, w):\n",
      "    solucion_radianes=np.zeros([5,1], dtype=float32)\n",
      "    solucion_radianes[0]=math.radians(w)\n",
      "    solucion_radianes[1]=math.radians(lambdax)\n",
      "    solucion_radianes[2]=math.radians(phix)\n",
      "    solucion_radianes[3]=math.radians(lambdapolo)\n",
      "    solucion_radianes[4]=math.radians(phipolo)\n",
      "    return solucion_radianes"
     ],
     "language": "python",
     "metadata": {},
     "outputs": [],
     "prompt_number": 78
    },
    {
     "cell_type": "code",
     "collapsed": false,
     "input": [
      "#a en radianes y c en grados\n",
      "def hallar_a_c(lambdaxr,phixr,lambdapr,phipr):\n",
      "    a_c=np.zeros([2,1], dtype=float32)\n",
      "    \n",
      "    sin_lhs=sin(lambdaxr)\n",
      "    sin_lp=sin(lambdapr)\n",
      "    cos_lhs=cos(lambdaxr)\n",
      "    cos_lp=cos(lambdapr)\n",
      "    delta_phi=phipr-phixr\n",
      "    cos_delt=cos(delta_phi)\n",
      "    sin_delt=sin(delta_phi)\n",
      "    d=(sin_lhs*sin_lp)+(cos_lhs*cos_lp*cos_delt)\n",
      "    a=math.acos(d)\n",
      "    a_degree=math.degrees(a)\n",
      "    a_c[0]=a\n",
      "    \n",
      "    c=(cos_lp*sin_delt)/sin(a)\n",
      "    C=math.asin(c)\n",
      "    C_degree=math.degrees(C)\n",
      "    #C_degree_abs=abs(C_degree)\n",
      "    a_c[1]=C_degree\n",
      "    \n",
      "    return a_c"
     ],
     "language": "python",
     "metadata": {},
     "outputs": [],
     "prompt_number": 103
    },
    {
     "cell_type": "code",
     "collapsed": false,
     "input": [
      "a1=pasar_a_rad(lambdax1,phix1,lambdaie,phiie,iWea)\n",
      "a_c_x1=hallar_a_c(a1[1],a1[2],a1[3],a1[4])\n",
      "\n",
      "a2=pasar_a_rad(lambdax2,phix2,lambdaie,phiie,iWea)\n",
      "a_c_x2=hallar_a_c(a2[1],a2[2],a2[3],a2[4])\n",
      "\n",
      "a3=pasar_a_rad(lambdax3,phix3,lambdaie,phiie,iWea)\n",
      "a_c_x3=hallar_a_c(a3[1],a3[2],a3[3],a3[4])\n",
      "\n",
      "a4=pasar_a_rad(lambdax4,phix4,lambdaie,phiie,iWea)\n",
      "a_c_x4=hallar_a_c(a4[1],a4[2],a4[3],a4[4])\n",
      "\n",
      "a5=pasar_a_rad(lambdax5,phix5,lambdaie,phiie,iWea)\n",
      "a_c_x5=hallar_a_c(a5[1],a5[2],a5[3],a5[4])"
     ],
     "language": "python",
     "metadata": {},
     "outputs": [],
     "prompt_number": 120
    },
    {
     "cell_type": "code",
     "collapsed": false,
     "input": [
      "#Tomando en cuenta que la altura total (incluyendo raiz) es de 78km \n",
      "upliftrate=(10.26*vel_prom)/100\n",
      "print \"El uplift rate es\",upliftrate"
     ],
     "language": "python",
     "metadata": {},
     "outputs": [
      {
       "output_type": "stream",
       "stream": "stdout",
       "text": [
        "El uplift rate es [ 0.41319322]\n"
       ]
      }
     ],
     "prompt_number": 127
    },
    {
     "cell_type": "code",
     "collapsed": false,
     "input": [],
     "language": "python",
     "metadata": {},
     "outputs": []
    },
    {
     "cell_type": "code",
     "collapsed": false,
     "input": [
      "#Velocidad del punto y azimuth de la velocidad\n",
      "def hallar_vel(a_v,a_c):\n",
      "    radio_t=6371*10**5\n",
      "    v=a_v*radio_t*sin(a_c)\n",
      "    return abs(v)\n",
      "\n",
      "def hallar_beta(c):\n",
      "    beta=90+c\n",
      "    return beta"
     ],
     "language": "python",
     "metadata": {},
     "outputs": [],
     "prompt_number": 124
    },
    {
     "cell_type": "code",
     "collapsed": false,
     "input": [
      "vx1=hallar_vel(a1[0],a_c_x1[0])\n",
      "betax1=hallar_beta(a_c_x1[1])\n",
      "\n",
      "vx2=hallar_vel(a2[0],a_c_x2[0])\n",
      "betax2=hallar_beta(a_c_x2[1])\n",
      "\n",
      "vx3=hallar_vel(a3[0],a_c_x3[0])\n",
      "betax3=hallar_beta(a_c_x3[1])\n",
      "\n",
      "vx4=hallar_vel(a4[0],a_c_x4[0])\n",
      "betax4=hallar_beta(a_c_x4[1])\n",
      "\n",
      "vx5=hallar_vel(a5[0],a_c_x5[0])\n",
      "betax5=hallar_beta(a_c_x5[1])\n",
      "\n",
      "vel_prom=(vx1+vx2+vx3+vx5)/5\n",
      "beta_prom=(betax1+betax2+betax3+betax4+betax5)/5\n",
      "\n",
      "print \"El azimuth (direccion de la velocidad) de la velocida es de \",beta_prom,\"grados.\"\n",
      "print \"La velocidad de colision es\",vel_prom,\"cm/yr.\""
     ],
     "language": "python",
     "metadata": {},
     "outputs": [
      {
       "output_type": "stream",
       "stream": "stdout",
       "text": [
        "El azimuth (direccion de la velocidad) de la velocida es de  [ 12.64687347] grados.\n",
        "La velocidad de colision es [ 4.02722433] cm/yr.\n"
       ]
      }
     ],
     "prompt_number": 125
    }
   ],
   "metadata": {}
  }
 ]
}